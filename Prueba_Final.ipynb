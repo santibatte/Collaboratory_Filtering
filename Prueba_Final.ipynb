{
 "cells": [
  {
   "cell_type": "code",
   "execution_count": 1,
   "metadata": {},
   "outputs": [],
   "source": [
    "import pandas as pd\n",
    "import numpy as np\n",
    "import numpy.ma as ma\n",
    "import random"
   ]
  },
  {
   "cell_type": "code",
   "execution_count": 17,
   "metadata": {},
   "outputs": [],
   "source": [
    "np.set_printoptions(precision=2, suppress=True)"
   ]
  },
  {
   "cell_type": "code",
   "execution_count": 2,
   "metadata": {},
   "outputs": [],
   "source": [
    "random.seed()"
   ]
  },
  {
   "cell_type": "code",
   "execution_count": 3,
   "metadata": {},
   "outputs": [],
   "source": [
    "links = pd.read_csv(\"links_small.csv\")\n",
    "ratings = pd.read_csv(\"ratings_small.csv\")\n",
    "\n",
    "ratings = ratings.drop(\"timestamp\",axis=1)\n",
    "ratings_wide = ratings.pivot_table(index = 'userId',\n",
    "                                   columns = 'movieId',\n",
    "                                   values = 'rating')"
   ]
  },
  {
   "cell_type": "code",
   "execution_count": 4,
   "metadata": {},
   "outputs": [],
   "source": [
    "#### Matrices \n",
    "\n",
    "links_values = np.array(links)\n",
    "links_features = np.array(links.columns)\n",
    "\n",
    "ratings_values = np.array(ratings_wide)\n",
    "ratings_features = np.array(ratings_wide.columns)"
   ]
  },
  {
   "cell_type": "code",
   "execution_count": 5,
   "metadata": {},
   "outputs": [],
   "source": [
    "#### Collaborative Filtering \n",
    "\n",
    "def dCostFunction_dU(Y,U,V,k,i,lambd=.02):\n",
    "    return Y[i,:][np.newaxis,:]@V.T@np.linalg.inv(V@V.T+lambd*np.eye(k))\n",
    "\n",
    "def dCostFunction_dV(Y,U,V,k,i,lambd=.02):\n",
    "    return Y[:,i][:,np.newaxis].T@U@np.linalg.inv(U.T@U+lambd*np.eye(k)) "
   ]
  },
  {
   "cell_type": "code",
   "execution_count": 6,
   "metadata": {},
   "outputs": [],
   "source": [
    "#http://ethen8181.github.io/machine-learning/recsys/1_ALSWR.html\n",
    "\n",
    "def CollaborativeFiltering(Y,max_iter=10,k=2,eta=.02,lambd=10):\n",
    "    \n",
    "    Y = np.nan_to_num(Y)\n",
    "    m,n = Y.shape\n",
    "    \n",
    "    U=np.random.uniform(low = 0,high = (1/np.sqrt(k)),size = [m,k] )\n",
    "    Uold=np.random.uniform(low = 0,high = (1/np.sqrt(k)),size = [m,k] )\n",
    "    V=np.random.uniform(low = 0,high = (1/np.sqrt(k)),size = [k,n] )\n",
    "    \n",
    "    j= 0\n",
    "    \n",
    "    while ((j <= max_iter) and (np.linalg.norm(U-Uold))>=.1):\n",
    "        \n",
    "        Uold = U.copy()    \n",
    "        \n",
    "        \n",
    "        for i in range(U.shape[0]):\n",
    "            U[i,:] = U[i,:] - eta*dCostFunction_dU(Y,U,V,k,i,lambd)\n",
    "\n",
    "        for i in range(V.shape[1]):\n",
    "            V[:,i] = V[:,i]-eta*dCostFunction_dV(Y,U,V,k,i,lambd)\n",
    "            \n",
    "\n",
    "        #print(U)\n",
    "        #print(Uold)\n",
    "        \n",
    "        \n",
    "        print(np.linalg.norm(U-Uold))\n",
    "        print(j)\n",
    "\n",
    "        #Vold = V\n",
    "        #V = V-eta*dCostFunction_dV(Y,U,V,lambd)\n",
    "            #print(np.linalg.norm(V-Vold))\n",
    "            \n",
    "        j+=1\n",
    "        \n",
    "        #Revisar tamaño de V, creo que está al revés\n",
    "        \n",
    "    return U,V\n",
    "\n",
    "Y=ratings_values\n"
   ]
  },
  {
   "cell_type": "code",
   "execution_count": 7,
   "metadata": {
    "scrolled": true
   },
   "outputs": [
    {
     "name": "stdout",
     "output_type": "stream",
     "text": [
      "3.2654656988256368\n",
      "0\n",
      "12.39564058888798\n",
      "1\n",
      "9.51092239586364\n",
      "2\n",
      "7.60334361830856\n",
      "3\n",
      "6.464995361930703\n",
      "4\n",
      "5.710089484600897\n",
      "5\n",
      "5.166881261174067\n",
      "6\n",
      "4.752681071016543\n",
      "7\n",
      "4.423427566076934\n",
      "8\n",
      "4.153522302245535\n",
      "9\n",
      "3.9270156390395914\n",
      "10\n",
      "3.733395738779496\n",
      "11\n",
      "3.5654140078001664\n",
      "12\n",
      "3.417884916227954\n",
      "13\n",
      "3.2869850123557742\n",
      "14\n",
      "3.169823310289831\n",
      "15\n",
      "3.064166978590486\n",
      "16\n",
      "2.9682599471216595\n",
      "17\n",
      "2.8806992935955282\n",
      "18\n",
      "2.8003487841840133\n",
      "19\n",
      "2.7262770144164388\n",
      "20\n",
      "2.657712261525403\n",
      "21\n",
      "2.5940089489400955\n",
      "22\n",
      "2.5346223431754535\n",
      "23\n",
      "2.479089192504846\n",
      "24\n",
      "2.427012723628727\n",
      "25\n",
      "2.378050881402413\n",
      "26\n",
      "2.331907013881933\n",
      "27\n",
      "2.2883224234141366\n",
      "28\n",
      "2.2470703574338935\n",
      "29\n",
      "2.207951121296734\n",
      "30\n",
      "2.170788073744239\n",
      "31\n",
      "2.1354243226862053\n",
      "32\n",
      "2.101719981105513\n",
      "33\n",
      "2.0695498743069964\n",
      "34\n",
      "2.0388016133964046\n",
      "35\n",
      "2.0093739678684055\n",
      "36\n",
      "1.9811754839820754\n",
      "37\n",
      "1.9541233062721786\n",
      "38\n",
      "1.928142167857694\n",
      "39\n",
      "1.9031635217326588\n",
      "40\n",
      "1.879124790378534\n",
      "41\n",
      "1.8559687151354187\n",
      "42\n",
      "1.8336427900477896\n",
      "43\n",
      "1.8120987675379314\n",
      "44\n",
      "1.7912922253938544\n",
      "45\n",
      "1.7711821862932777\n",
      "46\n",
      "1.7517307825028827\n",
      "47\n",
      "1.7329029595557424\n",
      "48\n",
      "1.7146662136695794\n",
      "49\n",
      "1.696990358463238\n",
      "50\n"
     ]
    }
   ],
   "source": [
    "U,V = CollaborativeFiltering(Y,max_iter=50,k=10,eta=.5,lambd=1) "
   ]
  },
  {
   "cell_type": "code",
   "execution_count": 16,
   "metadata": {},
   "outputs": [
    {
     "data": {
      "text/plain": [
       "(671, 2)"
      ]
     },
     "execution_count": 16,
     "metadata": {},
     "output_type": "execute_result"
    }
   ],
   "source": [
    "U.shape"
   ]
  },
  {
   "cell_type": "code",
   "execution_count": 17,
   "metadata": {},
   "outputs": [
    {
     "data": {
      "text/plain": [
       "(2, 9066)"
      ]
     },
     "execution_count": 17,
     "metadata": {},
     "output_type": "execute_result"
    }
   ],
   "source": [
    "V.shape"
   ]
  },
  {
   "cell_type": "code",
   "execution_count": 18,
   "metadata": {},
   "outputs": [
    {
     "data": {
      "text/plain": [
       "array([[ 0.53978821,  0.30368339],\n",
       "       [ 2.86735277,  0.20689059],\n",
       "       [ 1.98870416,  0.60563549],\n",
       "       ...,\n",
       "       [ 0.93755113, -0.02484656],\n",
       "       [ 2.17642403,  0.48260553],\n",
       "       [ 4.34549565, -0.42027992]])"
      ]
     },
     "execution_count": 18,
     "metadata": {},
     "output_type": "execute_result"
    }
   ],
   "source": [
    "U"
   ]
  },
  {
   "cell_type": "code",
   "execution_count": 20,
   "metadata": {},
   "outputs": [
    {
     "data": {
      "text/plain": [
       "array([[-25.62695811,  -9.87173671,  -4.08813719, ...,   0.43304182,\n",
       "          0.52351207,   0.48691622],\n",
       "       [  0.29022773,  -0.20912787,   0.48751525, ...,  -0.07143005,\n",
       "          0.26329494,   2.44946945]])"
      ]
     },
     "execution_count": 20,
     "metadata": {},
     "output_type": "execute_result"
    }
   ],
   "source": [
    "V"
   ]
  },
  {
   "cell_type": "code",
   "execution_count": null,
   "metadata": {},
   "outputs": [],
   "source": [
    "## notas de santi (no estoy seguro de lo siguiente): \n",
    "## Multiplicar U y V para obtener la matriz original pero sin nans _ ? \n",
    "# Eso nos daria nuestras predicciones, que habria que comparar con la matriz original y calcular el ndcg_score\n"
   ]
  },
  {
   "cell_type": "code",
   "execution_count": 11,
   "metadata": {},
   "outputs": [],
   "source": [
    "Matriz_predicciones = U @ V"
   ]
  },
  {
   "cell_type": "code",
   "execution_count": 18,
   "metadata": {},
   "outputs": [
    {
     "data": {
      "text/plain": [
       "array([[ -5.49,   1.21,  -1.93, ...,   0.08,   0.23,   0.56],\n",
       "       [-81.41, -75.8 , -32.42, ...,   1.15,   0.5 ,   3.91],\n",
       "       [-38.34, -10.7 ,  -2.07, ...,   0.6 ,   0.7 ,   3.09],\n",
       "       ...,\n",
       "       [-20.45,   0.42,  -3.1 , ...,   0.33,   0.6 ,   1.85],\n",
       "       [-43.08, -15.49,  -8.42, ...,   0.82,   0.65,   2.23],\n",
       "       [-91.88, -16.94,  -1.34, ...,   1.23,   1.81,   2.96]])"
      ]
     },
     "execution_count": 18,
     "metadata": {},
     "output_type": "execute_result"
    }
   ],
   "source": [
    "Matriz_predicciones"
   ]
  },
  {
   "cell_type": "code",
   "execution_count": 19,
   "metadata": {},
   "outputs": [
    {
     "data": {
      "text/plain": [
       "(671, 9066)"
      ]
     },
     "execution_count": 19,
     "metadata": {},
     "output_type": "execute_result"
    }
   ],
   "source": [
    "Matriz_predicciones.shape"
   ]
  },
  {
   "cell_type": "code",
   "execution_count": 20,
   "metadata": {},
   "outputs": [],
   "source": [
    "# Por que hay valores negativos como - 91 ... _??? "
   ]
  },
  {
   "cell_type": "code",
   "execution_count": null,
   "metadata": {},
   "outputs": [],
   "source": []
  },
  {
   "cell_type": "code",
   "execution_count": null,
   "metadata": {},
   "outputs": [],
   "source": []
  },
  {
   "cell_type": "code",
   "execution_count": 8,
   "metadata": {},
   "outputs": [],
   "source": [
    "from sklearn.metrics import ndcg_score\n",
    "\n",
    "#documentacion sobre la metrica:\n",
    "# https://scikit-learn.org/stable/modules/generated/sklearn.metrics.ndcg_score.html#sklearn.metrics.ndcg_score\n",
    "\n"
   ]
  },
  {
   "cell_type": "code",
   "execution_count": null,
   "metadata": {},
   "outputs": [],
   "source": []
  }
 ],
 "metadata": {
  "kernelspec": {
   "display_name": "Python 3",
   "language": "python",
   "name": "python3"
  },
  "language_info": {
   "codemirror_mode": {
    "name": "ipython",
    "version": 3
   },
   "file_extension": ".py",
   "mimetype": "text/x-python",
   "name": "python",
   "nbconvert_exporter": "python",
   "pygments_lexer": "ipython3",
   "version": "3.8.3"
  }
 },
 "nbformat": 4,
 "nbformat_minor": 4
}
