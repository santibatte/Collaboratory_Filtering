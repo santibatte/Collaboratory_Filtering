{
 "cells": [
  {
   "cell_type": "code",
   "execution_count": 1,
   "metadata": {},
   "outputs": [],
   "source": [
    "import pandas as pd\n",
    "import numpy as np\n",
    "import numpy.ma as ma\n",
    "import random"
   ]
  },
  {
   "cell_type": "code",
   "execution_count": 2,
   "metadata": {},
   "outputs": [],
   "source": [
    "random.seed()"
   ]
  },
  {
   "cell_type": "code",
   "execution_count": 3,
   "metadata": {},
   "outputs": [],
   "source": [
    "links = pd.read_csv(\"links_small.csv\")\n",
    "ratings = pd.read_csv(\"ratings_small.csv\")\n",
    "\n",
    "ratings = ratings.drop(\"timestamp\",axis=1)\n",
    "ratings_wide = ratings.pivot_table(index = 'userId',\n",
    "                                   columns = 'movieId',\n",
    "                                   values = 'rating')"
   ]
  },
  {
   "cell_type": "code",
   "execution_count": 4,
   "metadata": {},
   "outputs": [],
   "source": [
    "#### Matrices \n",
    "\n",
    "links_values = np.array(links)\n",
    "links_features = np.array(links.columns)\n",
    "\n",
    "ratings_values = np.array(ratings_wide)\n",
    "ratings_features = np.array(ratings_wide.columns)"
   ]
  },
  {
   "cell_type": "code",
   "execution_count": null,
   "metadata": {},
   "outputs": [],
   "source": [
    "#### Collaborative Filtering \n",
    "\n",
    "def dCostFunction_dU(Y,U,V,k,i,lambd=.02):\n",
    "    return Y[i,:][np.newaxis,:]@V.T@np.linalg.inv(V@V.T+lambd*np.eye(k))\n",
    "\n",
    "def dCostFunction_dV(Y,U,V,k,i,lambd=.02):\n",
    "    return Y[:,i][:,np.newaxis].T@U@np.linalg.inv(U.T@U+lambd*np.eye(k)) "
   ]
  },
  {
   "cell_type": "code",
   "execution_count": 10,
   "metadata": {},
   "outputs": [],
   "source": [
    "#http://ethen8181.github.io/machine-learning/recsys/1_ALSWR.html\n",
    "\n",
    "def CollaborativeFiltering(Y,max_iter=10,k=2,eta=.02,lambd=10):\n",
    "    \n",
    "    Y = np.nan_to_num(Y)\n",
    "    m,n = Y.shape\n",
    "    \n",
    "    U=np.random.uniform(low = 0,high = (1/np.sqrt(k)),size = [m,k] )\n",
    "    Uold=np.random.uniform(low = 0,high = (1/np.sqrt(k)),size = [m,k] )\n",
    "    V=np.random.uniform(low = 0,high = (1/np.sqrt(k)),size = [k,n] )\n",
    "    \n",
    "    j= 0\n",
    "    \n",
    "    while ((j <= max_iter) and (np.linalg.norm(U-Uold))>=.1):\n",
    "        \n",
    "        Uold = U.copy()    \n",
    "        \n",
    "        \n",
    "        for i in range(U.shape[0]):\n",
    "            U[i,:] = U[i,:] - eta*dCostFunction_dU(Y,U,V,k,i,lambd)\n",
    "\n",
    "        for i in range(V.shape[1]):\n",
    "            V[:,i] = V[:,i]-eta*dCostFunction_dV(Y,U,V,k,i,lambd)\n",
    "            \n",
    "\n",
    "        #print(U)\n",
    "        #print(Uold)\n",
    "        \n",
    "        \n",
    "        print(np.linalg.norm(U-Uold))\n",
    "        print(j)\n",
    "\n",
    "        #Vold = V\n",
    "        #V = V-eta*dCostFunction_dV(Y,U,V,lambd)\n",
    "            #print(np.linalg.norm(V-Vold))\n",
    "            \n",
    "        j+=1\n",
    "        \n",
    "        #Revisar tamaño de V, creo que está al revés\n",
    "        \n",
    "    return U,V\n",
    "\n",
    "Y=ratings_values\n"
   ]
  },
  {
   "cell_type": "code",
   "execution_count": 15,
   "metadata": {
    "scrolled": true
   },
   "outputs": [
    {
     "name": "stdout",
     "output_type": "stream",
     "text": [
      "2.2879625090143656\n",
      "0\n",
      "3.223055735879395\n",
      "1\n",
      "6.256539290560777\n",
      "2\n",
      "5.095154614436384\n",
      "3\n",
      "4.21034861744516\n",
      "4\n",
      "3.658229172108443\n",
      "5\n",
      "3.283247536876137\n",
      "6\n",
      "3.0082362820057815\n",
      "7\n",
      "2.794775425355134\n",
      "8\n",
      "2.6221731511313116\n",
      "9\n",
      "2.478388599166877\n",
      "10\n",
      "2.3559213567347554\n",
      "11\n",
      "2.249820795681168\n",
      "12\n",
      "2.156657738354692\n",
      "13\n",
      "2.07396067807296\n",
      "14\n",
      "1.9998894674184868\n",
      "15\n",
      "1.933036995983731\n",
      "16\n",
      "1.872303303657599\n",
      "17\n",
      "1.8168125618747293\n",
      "18\n",
      "1.765856472255928\n",
      "19\n",
      "1.7188545467419316\n",
      "20\n",
      "1.6753255295086704\n",
      "21\n",
      "1.6348663854772056\n",
      "22\n",
      "1.5971365584540704\n",
      "23\n",
      "1.5618459815260808\n",
      "24\n",
      "1.52874581204881\n",
      "25\n",
      "1.4976211795683716\n",
      "26\n",
      "1.468285443949643\n",
      "27\n",
      "1.4405756022032072\n",
      "28\n",
      "1.414348579872566\n",
      "29\n",
      "1.3894782111964132\n",
      "30\n",
      "1.3658527610320081\n",
      "31\n",
      "1.3433728768419901\n",
      "32\n",
      "1.3219498849654843\n",
      "33\n",
      "1.3015043646500328\n",
      "34\n",
      "1.2819649477875017\n",
      "35\n",
      "1.2632673032779957\n",
      "36\n",
      "1.2453532733601949\n",
      "37\n",
      "1.228170135750989\n",
      "38\n",
      "1.2116699705063736\n",
      "39\n",
      "1.1958091144958938\n",
      "40\n",
      "1.1805476895308102\n",
      "41\n",
      "1.165849192691801\n",
      "42\n",
      "1.151680139409251\n",
      "43\n",
      "1.1380097514663337\n",
      "44\n",
      "1.1248096834052692\n",
      "45\n",
      "1.1120537818841865\n",
      "46\n",
      "1.099717873405269\n",
      "47\n",
      "1.0877795765530045\n",
      "48\n",
      "1.0762181354744131\n",
      "49\n",
      "1.0650142718251696\n",
      "50\n"
     ]
    }
   ],
   "source": [
    "U,V = CollaborativeFiltering(Y,max_iter=50,k=2,eta=.5,lambd=1) "
   ]
  },
  {
   "cell_type": "code",
   "execution_count": 16,
   "metadata": {},
   "outputs": [
    {
     "data": {
      "text/plain": [
       "(671, 2)"
      ]
     },
     "execution_count": 16,
     "metadata": {},
     "output_type": "execute_result"
    }
   ],
   "source": [
    "U.shape"
   ]
  },
  {
   "cell_type": "code",
   "execution_count": 17,
   "metadata": {},
   "outputs": [
    {
     "data": {
      "text/plain": [
       "(2, 9066)"
      ]
     },
     "execution_count": 17,
     "metadata": {},
     "output_type": "execute_result"
    }
   ],
   "source": [
    "V.shape"
   ]
  },
  {
   "cell_type": "code",
   "execution_count": 18,
   "metadata": {},
   "outputs": [
    {
     "data": {
      "text/plain": [
       "array([[ 0.53978821,  0.30368339],\n",
       "       [ 2.86735277,  0.20689059],\n",
       "       [ 1.98870416,  0.60563549],\n",
       "       ...,\n",
       "       [ 0.93755113, -0.02484656],\n",
       "       [ 2.17642403,  0.48260553],\n",
       "       [ 4.34549565, -0.42027992]])"
      ]
     },
     "execution_count": 18,
     "metadata": {},
     "output_type": "execute_result"
    }
   ],
   "source": [
    "U"
   ]
  },
  {
   "cell_type": "code",
   "execution_count": 20,
   "metadata": {},
   "outputs": [
    {
     "data": {
      "text/plain": [
       "array([[-25.62695811,  -9.87173671,  -4.08813719, ...,   0.43304182,\n",
       "          0.52351207,   0.48691622],\n",
       "       [  0.29022773,  -0.20912787,   0.48751525, ...,  -0.07143005,\n",
       "          0.26329494,   2.44946945]])"
      ]
     },
     "execution_count": 20,
     "metadata": {},
     "output_type": "execute_result"
    }
   ],
   "source": [
    "V"
   ]
  }
 ],
 "metadata": {
  "kernelspec": {
   "display_name": "Python 3",
   "language": "python",
   "name": "python3"
  },
  "language_info": {
   "codemirror_mode": {
    "name": "ipython",
    "version": 3
   },
   "file_extension": ".py",
   "mimetype": "text/x-python",
   "name": "python",
   "nbconvert_exporter": "python",
   "pygments_lexer": "ipython3",
   "version": "3.7.4"
  }
 },
 "nbformat": 4,
 "nbformat_minor": 4
}
