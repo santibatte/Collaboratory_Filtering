{
 "cells": [
  {
   "cell_type": "markdown",
   "metadata": {},
   "source": [
    "## Collaborative Filtering"
   ]
  },
  {
   "cell_type": "markdown",
   "metadata": {},
   "source": [
    "Integrantes\n",
    "* Santiago\n",
    "* Jose Reyes 142207\n",
    "* Patricia\n",
    "* Yedam Fortiz 119523"
   ]
  },
  {
   "cell_type": "markdown",
   "metadata": {},
   "source": [
    "### Carga de paqueteria"
   ]
  },
  {
   "cell_type": "code",
   "execution_count": 1,
   "metadata": {},
   "outputs": [],
   "source": [
    "import pandas as pd\n",
    "import numpy as np\n",
    "import numpy.ma as ma\n",
    "import random as r\n",
    "from sklearn.model_selection import train_test_split\n",
    "from sklearn.metrics import ndcg_score"
   ]
  },
  {
   "cell_type": "code",
   "execution_count": 2,
   "metadata": {},
   "outputs": [],
   "source": [
    "r.seed(1234)"
   ]
  },
  {
   "cell_type": "markdown",
   "metadata": {},
   "source": [
    "### Carga de Informacion"
   ]
  },
  {
   "cell_type": "code",
   "execution_count": 3,
   "metadata": {
    "scrolled": true
   },
   "outputs": [
    {
     "name": "stderr",
     "output_type": "stream",
     "text": [
      "C:\\ProgramData\\Anaconda3\\lib\\site-packages\\IPython\\core\\interactiveshell.py:3063: DtypeWarning: Columns (10) have mixed types.Specify dtype option on import or set low_memory=False.\n",
      "  interactivity=interactivity, compiler=compiler, result=result)\n"
     ]
    }
   ],
   "source": [
    "links = pd.read_csv(\"links_small.csv\")\n",
    "metadata = pd.read_csv(\"movies_metadata.csv\")\n",
    "ratings = pd.read_csv(\"ratings_small.csv\")\n",
    "ratings = ratings.drop(\"timestamp\",axis=1)"
   ]
  },
  {
   "cell_type": "code",
   "execution_count": 4,
   "metadata": {},
   "outputs": [
    {
     "name": "stdout",
     "output_type": "stream",
     "text": [
      "Error en  19730\n",
      "Error en  29503\n",
      "Error en  35587\n"
     ]
    }
   ],
   "source": [
    "keys_metadata={}\n",
    "k=0\n",
    "for i,j,z,w in zip(metadata.id,metadata.original_title,metadata.overview,metadata.release_date):\n",
    "    \n",
    "    try:\n",
    "        keys_metadata[int(i)]=[j,z,w]\n",
    "    except: \n",
    "        print(\"Error en \",k)\n",
    "    k+=1\n",
    "        "
   ]
  },
  {
   "cell_type": "markdown",
   "metadata": {},
   "source": [
    "### Por ahora consideraremos únicamente 1500 lineas de ratings, no los 100,000 registros ya que el algoritmo no está optimizado para una base de datos tan grande"
   ]
  },
  {
   "cell_type": "code",
   "execution_count": 6,
   "metadata": {},
   "outputs": [],
   "source": [
    "ratings_wide = ratings.pivot_table(index = 'userId',\n",
    "                                   columns = 'movieId',\n",
    "                                   values = 'rating')"
   ]
  },
  {
   "cell_type": "code",
   "execution_count": 7,
   "metadata": {},
   "outputs": [],
   "source": [
    "#ratings_wide,X_test = train_test_split(ratings_wide.head(1500),test_size=0.3,random_state=1234)"
   ]
  },
  {
   "cell_type": "code",
   "execution_count": 8,
   "metadata": {},
   "outputs": [],
   "source": [
    "ratings_wide=ratings_wide.iloc[0:50,:]"
   ]
  },
  {
   "cell_type": "markdown",
   "metadata": {},
   "source": [
    "### Creacion de matrices"
   ]
  },
  {
   "cell_type": "code",
   "execution_count": 9,
   "metadata": {},
   "outputs": [],
   "source": [
    "links_values = np.array(links)\n",
    "links_features = np.array(links.columns)\n",
    "ratings_values = np.array(ratings_wide)\n",
    "ratings_features = np.array(ratings_wide.columns)"
   ]
  },
  {
   "cell_type": "markdown",
   "metadata": {},
   "source": [
    "### Funcion de costo"
   ]
  },
  {
   "cell_type": "markdown",
   "metadata": {},
   "source": [
    "$$ \\large J(X)  =  \\frac{1}{2} \\sum_{(a,i \\in D)} (Y_{ai} - [UV^T]_{ai} )^2 + \\frac{\\lambda}{2} \\sum_{a=1}^n\\sum_{j=1}^k U_{aj}^2 + \\frac{\\lambda}{2} \\sum_{i=1}^m\\sum_{j=1}^k V_{ij}^2  $$\n",
    "\n",
    "* Seleccionamos $V$ al azar y la dejamos fija y optimizamos con respecto a $U$\n",
    "* Una vez actualizada la $U$, la dejamos fija y optimizamos con respecto a $V$\n",
    "* Repetimos hasta que converja (variaciones entre las estimaciones de los vectores es pequeña) (optimo local)"
   ]
  },
  {
   "cell_type": "markdown",
   "metadata": {},
   "source": [
    "#### Minimizacion Alternada"
   ]
  },
  {
   "cell_type": "code",
   "execution_count": 10,
   "metadata": {},
   "outputs": [],
   "source": [
    "def gradiente_U (Y,U,V,k,lambda_):\n",
    "    \n",
    "    if k!=1:\n",
    "        U_V = U.dot(V.T)\n",
    "    else:\n",
    "        U_V = np.outer(U,V)\n",
    "    \n",
    "    na = np.isnan(Y)\n",
    "    \n",
    "    #Tratamiento especial NA\n",
    "    #gradiente = -dot_na(Y-U_V, V) + lambda_*U\n",
    "    gradiente = -(Y-U_V)@V + lambda_*U\n",
    "    \n",
    "    return gradiente"
   ]
  },
  {
   "cell_type": "code",
   "execution_count": 11,
   "metadata": {},
   "outputs": [],
   "source": [
    "def gradiente_V (Y,U,V,k,lambda_):\n",
    "    \n",
    "    if k!=1:\n",
    "        U_V = U.dot(V.T)\n",
    "    else:\n",
    "        U_V = np.outer(U,V)\n",
    "    \n",
    "    na = np.isnan(Y)\n",
    "    \n",
    "    #Tratamiento especial NA\n",
    "    #gradiente = -dot_na((Y-U_V).T, U) + lambda_*V\n",
    "    gradiente = -(Y-U_V).T@U + lambda_*V\n",
    "    \n",
    "    return gradiente"
   ]
  },
  {
   "cell_type": "code",
   "execution_count": 12,
   "metadata": {},
   "outputs": [],
   "source": [
    "def dot_na(X,Y):\n",
    "    \n",
    "    n,m = X.shape\n",
    "    lista = []\n",
    "    \n",
    "    for i in range(n):\n",
    "        pos_na = ~np.isnan(X[i,:])\n",
    "        lista.append(X[i,pos_na]@Y[pos_na])\n",
    "        lista_ = np.array(lista)\n",
    "    \n",
    "    return lista_ "
   ]
  },
  {
   "cell_type": "code",
   "execution_count": 13,
   "metadata": {},
   "outputs": [],
   "source": [
    "def descenso_gradiente_U(Y,U,V,k,lambda_,eta,epsilon,maxiter=5000):\n",
    "    \n",
    "    U_ = U\n",
    "    i = 0 \n",
    "    while True:\n",
    "        U_aux = U_\n",
    "        gradiente_u = gradiente_U(Y,U_,V,k,lambda_)\n",
    "        U_ = U_ - eta * gradiente_u\n",
    "        \n",
    "        if (np.linalg.norm(U_aux-U_))< epsilon:\n",
    "            break\n",
    "        if i>maxiter:\n",
    "            break\n",
    "        i+=1\n",
    "\n",
    "    return U_"
   ]
  },
  {
   "cell_type": "code",
   "execution_count": 14,
   "metadata": {},
   "outputs": [],
   "source": [
    "def descenso_gradiente_V(Y,U,V,k,lambda_,eta,epsilon,maxiter=5000):\n",
    "    \n",
    "    V_ = V\n",
    "    i = 0 \n",
    "    while True:\n",
    "        V_aux = V_\n",
    "        gradiente_v = gradiente_V(Y,U,V_,k,lambda_)\n",
    "        V_ = V_ - eta * gradiente_v\n",
    "        \n",
    "        if (np.linalg.norm(V_aux-V_))< epsilon:\n",
    "            break\n",
    "        if i>maxiter:\n",
    "            break\n",
    "        i+=1\n",
    "\n",
    "    return V_"
   ]
  },
  {
   "cell_type": "code",
   "execution_count": 15,
   "metadata": {},
   "outputs": [],
   "source": [
    "def minimizacion_alternada(Y,k,lambda_,eta,epsilon):\n",
    "    \"\"\"\n",
    "    Objetivo:\n",
    "    Realizar minimizacion alternada\n",
    "    \n",
    "    Insumo:\n",
    "    Y - Matriz a evaluar\n",
    "    k - Hiperparametro para obtimizar funcion de costo\n",
    "    lambda - Hiperparametro de regularizacion\n",
    "    eta - Tamaño de paso\n",
    "    epsilon - Criterio de paro\n",
    "    \n",
    "    Resultado:\n",
    "    U - Sentimiento general de cada usuario hacia las peliculas\n",
    "    V - Como cada una de las peliculas es percibidas por los usuarios\n",
    "    \n",
    "    \"\"\"\n",
    "    \n",
    "    n,m = Y.shape\n",
    "    \n",
    "    Y = np.nan_to_num(Y)\n",
    "    \n",
    "    U = np.random.uniform(low = 0,high = (1/np.sqrt(k)),size = [n,k])\n",
    "    V = np.random.uniform(low = 0,high = (1/np.sqrt(k)),size = [m,k])\n",
    "    \n",
    "    #Optimizar U\n",
    "    U_final = descenso_gradiente_U(Y,U,V,k,lambda_,eta,epsilon)\n",
    "    \n",
    "    #Optimizar V\n",
    "    V_final = descenso_gradiente_V(Y,U_final,V,k,lambda_,eta,epsilon)\n",
    "    \n",
    "    return U_final,V_final"
   ]
  },
  {
   "cell_type": "markdown",
   "metadata": {},
   "source": [
    "Podemos hacer la revisión con esta matriz"
   ]
  },
  {
   "cell_type": "code",
   "execution_count": 16,
   "metadata": {},
   "outputs": [],
   "source": [
    "Y = np.array([[5, np.nan, 7], \n",
    "              [1, 1, np.nan]])"
   ]
  },
  {
   "cell_type": "code",
   "execution_count": 17,
   "metadata": {},
   "outputs": [
    {
     "data": {
      "text/plain": [
       "array([[ 5., nan,  7.],\n",
       "       [ 1.,  1., nan]])"
      ]
     },
     "execution_count": 17,
     "metadata": {},
     "output_type": "execute_result"
    }
   ],
   "source": [
    "Y"
   ]
  },
  {
   "cell_type": "code",
   "execution_count": 18,
   "metadata": {},
   "outputs": [],
   "source": [
    "U_Y,V_Y = minimizacion_alternada(Y,k=2,lambda_=0.1,eta=0.01,epsilon=1e-3)"
   ]
  },
  {
   "cell_type": "code",
   "execution_count": 19,
   "metadata": {},
   "outputs": [
    {
     "name": "stdout",
     "output_type": "stream",
     "text": [
      "[[ 5. nan  7.]\n",
      " [ 1.  1. nan]]\n",
      "[[5.01690374 0.08587532 6.90413505]\n",
      " [0.8271082  0.39407857 0.60134786]]\n",
      "0.8806259159622467\n"
     ]
    }
   ],
   "source": [
    "print(Y)\n",
    "print(U_Y@V_Y.T)\n",
    "print(np.linalg.norm(np.nan_to_num(Y)-U_Y@V_Y.T))"
   ]
  },
  {
   "cell_type": "markdown",
   "metadata": {},
   "source": [
    "### En estos momentos no se consideró el procedimiento de tratamiento especial de los Nulos, ya que el programa tarda mucho tiempo en correr. Por ahora estamos considerando los registros nulos como 0."
   ]
  },
  {
   "cell_type": "markdown",
   "metadata": {},
   "source": [
    "Haremos la estimación para la información de las películas"
   ]
  },
  {
   "cell_type": "markdown",
   "metadata": {},
   "source": [
    "## Selección de parámetros "
   ]
  },
  {
   "cell_type": "markdown",
   "metadata": {},
   "source": [
    "Se realiza un grid search para encontrar los mejores valores de los parámetros, entre ellos, el valor de k, tomando como criterio referencia el error NDCG: "
   ]
  },
  {
   "cell_type": "markdown",
   "metadata": {},
   "source": [
    "### Verificaremos el valor del ndcg score para diferentes valores de k y los otros parametros"
   ]
  },
  {
   "cell_type": "code",
   "execution_count": 20,
   "metadata": {},
   "outputs": [],
   "source": [
    "parametros= { 'k':[3,4,5],\n",
    "            'eta':[0.0001],\n",
    "            'lambda':[0.25,0.5,1,1.25]}"
   ]
  },
  {
   "cell_type": "code",
   "execution_count": 21,
   "metadata": {},
   "outputs": [],
   "source": [
    "def grid_search(params):\n",
    "    \"\"\"\n",
    "    Objetivo:\n",
    "    Búsqueda de hiperparámetros del modelo\n",
    "    \n",
    "    Insumo:\n",
    "    params - Dicciionario con hyperparámetros k,eta y lambda a probar\n",
    "    \n",
    "    Resultado:\n",
    "    Valores de k, eta y lambda con menor costo por NDCG\n",
    "    \n",
    "    \"\"\"\n",
    "    \n",
    "    values=[]\n",
    "    for k in params['k']:\n",
    "        for eta in params['eta']:\n",
    "            for lambd in params['lambda']:\n",
    "                try:\n",
    "                    U,V = minimizacion_alternada(ratings_wide,k=k,lambda_=lambd,eta=eta,epsilon=1e-3)\n",
    "                    ndcg= ndcg_score(np.nan_to_num(ratings_wide), U@V.T)\n",
    "                    values.append([k,eta,lambd,ndcg])\n",
    "                    print(k,eta,lambd,ndcg)\n",
    "                except:\n",
    "                    print(\"error\")\n",
    "                    ndcg=np.nan\n",
    "                    values.append([k,eta,lambd,ndcg])\n",
    "    parameters_selection= pd.DataFrame(values, columns=['k','eta','lambda','ndcg'])\n",
    "    print('best combination of parameters:')\n",
    "    print(parameters_selection.loc[parameters_selection['ndcg'] == parameters_selection['ndcg'].min()])\n",
    "    return pd.DataFrame(values, columns=['k','eta','lambda','ndcg'])\n",
    "        "
   ]
  },
  {
   "cell_type": "code",
   "execution_count": 22,
   "metadata": {
    "scrolled": false
   },
   "outputs": [
    {
     "name": "stdout",
     "output_type": "stream",
     "text": [
      "3 0.0001 0.25 0.581083295001394\n",
      "3 0.0001 0.5 0.5854400345780428\n",
      "3 0.0001 1 0.5814598526894674\n",
      "3 0.0001 1.25 0.580106781930808\n",
      "3 0.0001 1.5 0.5814740426062657\n",
      "3 0.0001 2 0.581148071417714\n",
      "3 0.0001 5 0.5804905759516545\n",
      "4 0.0001 0.25 0.586110034680311\n",
      "4 0.0001 0.5 0.5852421597144636\n",
      "4 0.0001 1 0.586922606182513\n",
      "4 0.0001 1.25 0.5866517896872719\n",
      "4 0.0001 1.5 0.5869135682546213\n",
      "4 0.0001 2 0.5881671799900656\n",
      "4 0.0001 5 0.5833557860769437\n",
      "5 0.0001 0.25 0.5894824724601825\n",
      "5 0.0001 0.5 0.5901410478817646\n",
      "5 0.0001 1 0.5919037748481795\n",
      "5 0.0001 1.25 0.5905153700920902\n",
      "5 0.0001 1.5 0.591773574448952\n",
      "5 0.0001 2 0.5875080021684704\n",
      "5 0.0001 5 0.5872270366250905\n",
      "6 0.0001 0.25 0.5937193900354366\n",
      "6 0.0001 0.5 0.5919858662997757\n",
      "6 0.0001 1 0.5991837847224761\n",
      "6 0.0001 1.25 0.597834714319735\n",
      "6 0.0001 1.5 0.5976959600622527\n",
      "6 0.0001 2 0.6015218871434439\n",
      "6 0.0001 5 0.5931140974400946\n",
      "7 0.0001 0.25 0.617533965750197\n",
      "7 0.0001 0.5 0.6144023199985317\n",
      "7 0.0001 1 0.6054670947593479\n",
      "7 0.0001 1.25 0.604784918154467\n",
      "7 0.0001 1.5 0.6022593519371711\n",
      "7 0.0001 2 0.5991480866496298\n",
      "7 0.0001 5 0.5947240882591882\n",
      "best combination of parameters:\n",
      "   k     eta  lambda      ndcg\n",
      "3  3  0.0001    1.25  0.580107\n"
     ]
    }
   ],
   "source": [
    "parameters_selection= grid_search(parametros)"
   ]
  },
  {
   "cell_type": "markdown",
   "metadata": {},
   "source": [
    "## Entrenamos el modelo con los mejores parámetros encontrados:"
   ]
  },
  {
   "cell_type": "code",
   "execution_count": 27,
   "metadata": {},
   "outputs": [],
   "source": [
    "U_final,V_final = minimizacion_alternada(ratings_wide,k=3,lambda_=1.25,eta=0.0001,epsilon=1e-3)"
   ]
  },
  {
   "cell_type": "markdown",
   "metadata": {},
   "source": [
    "### 5 Mejores recomendaciones"
   ]
  },
  {
   "cell_type": "markdown",
   "metadata": {},
   "source": [
    "Dada que con el modelo es posible construir una matríz de calificaciones de películas completo, es posible construir el sistema de recomendación. \n",
    "\n",
    "Sea $R=UV^T$ la matríz de calificaciones completa. En este caso cada reglon representa un usuario y cada columna una película. El valor entrada de la matríz representa una calificación potencial. En el sistema de recomendación se selecciona a un usuario, se filtran las películas que ya ha visto, y de las restantes se recomiendan las 5 películas con mejor calificación."
   ]
  },
  {
   "cell_type": "code",
   "execution_count": 28,
   "metadata": {},
   "outputs": [],
   "source": [
    "recomendation_matrix = U_final@V_final.T\n",
    "\n",
    "def recomendacion(user,recomendation_matrix,ratings_features,ratings_values):\n",
    "    \"\"\"\n",
    "    Objetivo:\n",
    "    Recomendar películas dada una matríz de recomendación\n",
    "    \n",
    "    Insumo:\n",
    "    user - Número de usuario\n",
    "    recomendation_matrix - Matríz de recomendación\n",
    "    ratings_features - Array con id de Películas\n",
    "    ratings_valuess - Matríz rala con calificaciones \n",
    "    \n",
    "    Resultado:\n",
    "    Lista con 5 películas que el usuario no ha vista y \n",
    "    que tienen mejor calificación para él. \n",
    "    \n",
    "    \"\"\"\n",
    "    \n",
    "    rec_user = recomendation_matrix[user,]\n",
    "    ratings_user = ratings_values[user,]\n",
    "    \n",
    "    not_watched = pd.isnull([x for x in ratings_values[user,]])\n",
    "    rec_user[np.invert(not_watched)]=np.array([-np.inf]*sum(np.invert(not_watched))) \n",
    "    \n",
    "    idx_top5=rec_user.argsort()[-5:][::-1]\n",
    "    #print(\"Calificaciones: \",rec_user[idx_top5])\n",
    "    print(\"Puedes ver las películas: \",ratings_features[idx_top5])\n",
    "    return list(ratings_features[idx_top5])"
   ]
  },
  {
   "cell_type": "code",
   "execution_count": 39,
   "metadata": {},
   "outputs": [],
   "source": [
    "def Recomendar():\n",
    "    \"\"\"\n",
    "    Objetivo:\n",
    "    Recomendar una película a un usuario a determinar\n",
    "    \n",
    "    Insumo:\n",
    "    input - Número de usuario \n",
    "    \n",
    "    Funciones/Datos Anidados:\n",
    "    Función recomendación\n",
    "    Diccionario que asocia id de película con título, año de lanzamiento y sinópsis.\n",
    "    \n",
    "    Resultado:\n",
    "    5 películas recomendadas por la función recomendación,\n",
    "    su título, año de lanzamiento y sinópsis. \n",
    "    \n",
    "    \n",
    "    \"\"\"\n",
    "    \n",
    "    user = int(input(\"Número de Usuario :\"))\n",
    "    try:\n",
    "        movies=recomendacion(user,recomendation_matrix,ratings_features,ratings_values)\n",
    "        print(\"_____________________________\")\n",
    "        for i in movies:\n",
    "            try:\n",
    "                movie_info=keys_metadata[i]\n",
    "                print(\"Título: \",movie_info[0])\n",
    "                print(\"Fecha de Lanzamiento: \",movie_info[2])\n",
    "                print(\"Sinópsis: \",movie_info[1])\n",
    "                print(\"_____________________________\")\n",
    "            except:\n",
    "                print(\"No tenemos información disponible de la película :\",i)\n",
    "                print(\"_____________________________\")\n",
    "    except:\n",
    "        print(\"No tenemos registro de ese número de usuario\")\n"
   ]
  },
  {
   "cell_type": "code",
   "execution_count": 45,
   "metadata": {},
   "outputs": [
    {
     "name": "stdout",
     "output_type": "stream",
     "text": [
      "Número de Usuario :20\n",
      "Puedes ver las películas:  [2571   50 2959 1997  110]\n",
      "_____________________________\n",
      "No tenemos información disponible de la película : 2571\n",
      "_____________________________\n",
      "No tenemos información disponible de la película : 50\n",
      "_____________________________\n",
      "Título:  License to Wed\n",
      "Fecha de Lanzamiento:  2007-07-04\n",
      "Sinópsis:  Newly engaged, Ben and Sadie can't wait to start their life together and live happily ever after. However Sadie's family church's Reverend Frank won't bless their union until they pass his patented, \"foolproof\" marriage prep course consisting of outrageous classes, outlandish homework assignments and some outright invasion of privacy.\n",
      "_____________________________\n",
      "Título:  Deux frères\n",
      "Fecha de Lanzamiento:  2004-04-07\n",
      "Sinópsis:  Two tigers are separated as cubs and taken into captivity, only to be reunited years later as enemies by an explorer (Pearce) who inadvertently forces them to fight each other.\n",
      "_____________________________\n",
      "Título:  Trois couleurs : Rouge\n",
      "Fecha de Lanzamiento:  1994-05-27\n",
      "Sinópsis:  Red This is the third film from the trilogy by Kieślowski. “Red” meaning brotherliness. Here Kieślowski masterly tells strange coincidentally linked stories in the most packed work.\n",
      "_____________________________\n"
     ]
    }
   ],
   "source": [
    "Recomendar()"
   ]
  },
  {
   "cell_type": "code",
   "execution_count": null,
   "metadata": {},
   "outputs": [],
   "source": []
  }
 ],
 "metadata": {
  "kernelspec": {
   "display_name": "Python 3",
   "language": "python",
   "name": "python3"
  },
  "language_info": {
   "codemirror_mode": {
    "name": "ipython",
    "version": 3
   },
   "file_extension": ".py",
   "mimetype": "text/x-python",
   "name": "python",
   "nbconvert_exporter": "python",
   "pygments_lexer": "ipython3",
   "version": "3.7.4"
  }
 },
 "nbformat": 4,
 "nbformat_minor": 4
}
