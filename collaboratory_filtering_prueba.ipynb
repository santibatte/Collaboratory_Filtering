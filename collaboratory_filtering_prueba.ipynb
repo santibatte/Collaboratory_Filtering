{
 "cells": [
  {
   "cell_type": "code",
   "execution_count": 11,
   "metadata": {},
   "outputs": [],
   "source": [
    "import numpy as np\n",
    "import random"
   ]
  },
  {
   "cell_type": "code",
   "execution_count": null,
   "metadata": {},
   "outputs": [],
   "source": []
  },
  {
   "cell_type": "code",
   "execution_count": 1,
   "metadata": {},
   "outputs": [],
   "source": [
    "## Importar datos "
   ]
  },
  {
   "cell_type": "code",
   "execution_count": 22,
   "metadata": {},
   "outputs": [],
   "source": [
    "## Datos de juguete: \n",
    "\n",
    "random.seed(1)\n",
    "V=np.random.randint(0,9,(3,4)) "
   ]
  },
  {
   "cell_type": "code",
   "execution_count": 23,
   "metadata": {},
   "outputs": [
    {
     "data": {
      "text/plain": [
       "array([[5, 5, 8, 1],\n",
       "       [1, 4, 6, 1],\n",
       "       [3, 0, 7, 0]])"
      ]
     },
     "execution_count": 23,
     "metadata": {},
     "output_type": "execute_result"
    }
   ],
   "source": [
    "V"
   ]
  },
  {
   "cell_type": "code",
   "execution_count": null,
   "metadata": {},
   "outputs": [],
   "source": [
    "## Necesitamos calcular  la derivada de la funcion objetivo. \n",
    "\n"
   ]
  },
  {
   "cell_type": "code",
   "execution_count": null,
   "metadata": {},
   "outputs": [],
   "source": [
    "\n",
    "## Algoritmo \n",
    "\n",
    "def collaboratory_filtering(Y, tol,k,lambd):\n",
    "    '''\n",
    "    Y: matriz de ratings de usuarios y peliculas \n",
    "    tol: tolerancia luego de la cual el algoritmo se detiene porque ha alcanzado convergencia\n",
    "    lambd: lambda, hiperparametro de penalizacion. \n",
    "    k: hiperparametro del rango supuesto de la matriz (valor optimo debe hallarse por crossvalidation)\n",
    "    '''\n",
    "    \n",
    "    ## Inicializar matriz V con valores aleatorias difrentes de 0. y del tamaño de la matriz Y.  \n",
    "    V=np.random.randint(0,10,(Y.shape[0], Y.shape[1])) \n",
    "    \n",
    "    \n",
    "    #CRITERIO DE PARO: \n",
    "    \n",
    "    #Determinar medida para poder comparar dos matrices para la tolerancia.\n",
    "    #Como establecer una medida numerica para comparar ambas matrices?\n",
    "    #Restar elemento por elemento y luego hacer norma 2 ? \n",
    "    U=\n",
    "    U_ant=\n",
    "    \n",
    "    \n",
    "    while abs ( U - U_ant ) > tol:\n",
    "        \n",
    "        \n",
    "        #Actualizacion de U: \n",
    "        \n",
    "        #Dada una V (inicializada de manera fija):\n",
    "        \n",
    "        for \n",
    "        \n",
    "        \n",
    "        \n",
    "        if Y[a,i] is NA: \n",
    "            continue\n",
    "        else: \n",
    "            #Actualizacion\n",
    "        \n",
    "        \n",
    "        \n",
    "        \n",
    "        #Actualizacion de V:\n",
    "        \n",
    "        \n",
    "        \n",
    "        \n",
    "        \n",
    "        \n",
    "        "
   ]
  },
  {
   "cell_type": "code",
   "execution_count": 10,
   "metadata": {},
   "outputs": [],
   "source": [
    "def actualizar_U():\n",
    "    pass"
   ]
  },
  {
   "cell_type": "code",
   "execution_count": null,
   "metadata": {},
   "outputs": [],
   "source": [
    "def actualizar_V():\n",
    "    pass"
   ]
  }
 ],
 "metadata": {
  "kernelspec": {
   "display_name": "Python 3",
   "language": "python",
   "name": "python3"
  },
  "language_info": {
   "codemirror_mode": {
    "name": "ipython",
    "version": 3
   },
   "file_extension": ".py",
   "mimetype": "text/x-python",
   "name": "python",
   "nbconvert_exporter": "python",
   "pygments_lexer": "ipython3",
   "version": "3.8.3"
  }
 },
 "nbformat": 4,
 "nbformat_minor": 4
}
